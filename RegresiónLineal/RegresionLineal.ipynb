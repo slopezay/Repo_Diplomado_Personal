{
 "cells": [
  {
   "cell_type": "markdown",
   "metadata": {},
   "source": [
    "# REGRESIÓN LINEAL\n",
    "___"
   ]
  },
  {
   "cell_type": "markdown",
   "metadata": {},
   "source": [
    "## Introducción"
   ]
  },
  {
   "cell_type": "markdown",
   "metadata": {},
   "source": [
    "*“La regresión lineal se refiere a un conjunto de métodos para el modelado de la relación entre una o más variables independientes y una variable dependiente”*. Las técnicas de regresión se diferencian principalmente en el número de variables independientes y en el tipo de relación que presentan entre las variables independientes y la variable dependiente."
   ]
  },
  {
   "cell_type": "markdown",
   "metadata": {},
   "source": [
    "![REGRESIÓN LINEAL](https://qph.fs.quoracdn.net/main-qimg-29a32939894548f038224ff314c1ed82 \"Imagen de regresion lineal\")\n",
    "\n",
    "Fuente: [Quora](https://www.quora.com/Whats-the-difference-between-gradient-descent-and-stochastic-gradient-descent)\n"
   ]
  },
  {
   "cell_type": "markdown",
   "metadata": {},
   "source": [
    "Para usar la regresión lineal se debe primero asumir que la relación entre las variables independientes **x** y la variable dependiente *y* es lineal y puede ser expresada como una suma pesada de los elementos de **x** dado que las observaciones poseen algún nivel de ruido, pero con un buen comportamiento (Ruido Gaussiano). En la grafica anterior se puede observar que la ecuación de la línea que se ajusta mejor a los datos está dada por:"
   ]
  },
  {
   "cell_type": "markdown",
   "metadata": {},
   "source": [
    "$$ \\hat{y} = \\omega_1x+\\omega_0 $$"
   ]
  },
  {
   "cell_type": "markdown",
   "metadata": {},
   "source": [
    "En la grafica anterior se puede observar que la ecuación de la línea que se ajusta mejor a los datos está dada por: $\\omega_1$ se le llama *peso* y determina la influencia que tiene la variable independiente sobre la predicción y $\\omega_0$ se le conoce como *bias* e indica que valor se debería tomar llegado el caso que el peso sea cero.\n",
    "\n",
    "Cuando se tiene solo una variable independiente (o característica) se habla de una **Regresión lineal simple** como se ilusta en la ecuación anterior. En caso de tener más de un variable independiente (o características) se hablaría de una **Regresión lineal Múltiple**. En el caso de la regresión lineal múltiple la ecuación de la recta estaría dada por:\n"
   ]
  },
  {
   "cell_type": "markdown",
   "metadata": {},
   "source": [
    "$$\\hat{y} = \\omega_1x_1+\\omega_2x_2+\\omega_3x_3+…+\\omega_dc_d+\\omega_0$$"
   ]
  },
  {
   "cell_type": "markdown",
   "metadata": {},
   "source": [
    "De la ecuación anterior se puede observar que **$\\omega \\in \\mathbb{R}^d$** y si suponemos que el conjunto de datos de entrenamiento posee *n* muestras, tendiramos que **$X \\in \\mathbb{R}^{nxd} $** y haciendo uso de la notación del algebra lineal tendiramos que la ecuación se podría redefinir como:\n",
    "$$\\hat{y} = X\\omega + \\omega_0$$"
   ]
  },
  {
   "cell_type": "markdown",
   "metadata": {},
   "source": [
    "## Historia"
   ]
  },
  {
   "cell_type": "markdown",
   "metadata": {},
   "source": [
    "La primera forma de regresión lineal documentada fue el método de los mínimos cuadrados que fue publicada por Legendre en 1805, Gauss publicó un trabajo en donde desarrollaba de manera más profunda el método de los mínimos cuadrados y en dónde se incluía una versión del teorema de Gauss-Márkov.\n",
    "\n",
    "El término regresión se utilizó por primera vez en el estudio de variables antropométricas: al comparar la estatura de padres e hijos, donde resultó que los hijos cuyos padres tenían una estatura muy superior al valor medio, tendían a igualarse a este, mientras que aquellos cuyos padres eran muy bajos tendían a reducir su diferencia respecto a la estatura media; es decir, \"regresaban\" al promedio.\n",
    "\n",
    "El término lineal se emplea para distinguirlo del resto de técnicas de regresión, que emplean modelos basados en cualquier clase de función matemática. Los modelos lineales son una explicación simplificada de la realidad, mucho más ágiles y con un soporte teórico mucho más extenso por parte de la matemática y la estadística.\n"
   ]
  },
  {
   "cell_type": "markdown",
   "metadata": {},
   "source": [
    "## Planteamiento del algortimo"
   ]
  },
  {
   "cell_type": "markdown",
   "metadata": {},
   "source": [
    "Antes de realizar la definición del algoritmo que se va a seguir para realizar la implementación de la regresión lineal. Vamos a definir la función de perdida y el método del descenso del gradiente."
   ]
  },
  {
   "cell_type": "markdown",
   "metadata": {},
   "source": [
    "### función de pérdida"
   ]
  },
  {
   "cell_type": "markdown",
   "metadata": {},
   "source": [
    "La función de pérdida cuantifica la distancia entre el valor real y el predicho del objetivo. La pérdida generalmente será un número no negativo donde los valores más pequeños son mejores y las predicciones perfectas incurren en una pérdida de 0."
   ]
  },
  {
   "cell_type": "markdown",
   "metadata": {},
   "source": [
    "$$J = \\frac{1}{n}\\sum_{i=1}^{n}{(\\hat{y_i} - y_i)}^2$$"
   ]
  },
  {
   "cell_type": "markdown",
   "metadata": {},
   "source": [
    "Si nos referimos a la grafica presentada en la introducción se puede observar que las líneas verticales de color naranja representan el error entre los valores estimados $\\hat{y}$ y los valores reales *y*. lo que se busca con la regresión lineal es minimizar la función de perdida lo cual se hace por medio del uso del **descenso del gradiente**"
   ]
  },
  {
   "cell_type": "markdown",
   "metadata": {},
   "source": [
    "### descenso de gradiente"
   ]
  },
  {
   "cell_type": "markdown",
   "metadata": {},
   "source": [
    "El descenso de gradiente es un algoritmo de optimización iterativo para encontrar el mínimo de una función (aquí es la función de pérdida definida anteriormente). La idea del uso del método del descenso del gradiente es realizar la variación, de forma iterativa, de los valores de los pesos y el “bias” definidos en modelo lineal presentado en la introducción con el objetivo de minimizar la función de perdida. "
   ]
  },
  {
   "cell_type": "markdown",
   "metadata": {},
   "source": [
    "![descenso del Gradiente](Imagenes/gradiente.png \"Descenso del gradiente\")\n",
    "Fuente : [towardsdatascience](https://towardsdatascience.com/introduction-to-machine-learning-algorithms-linear-regression-14c4e325882a)"
   ]
  },
  {
   "cell_type": "markdown",
   "metadata": {},
   "source": [
    "Para actualizar $\\omega_0$ y $\\omega_1$, tomamos gradientes de la función de costo. Para encontrar estos gradientes, tomamos derivadas parciales con respecto a $\\omega_0$ y $\\omega_1$ como se muestra a continuacion."
   ]
  },
  {
   "cell_type": "markdown",
   "metadata": {},
   "source": [
    "$$J = \\frac{1}{n}\\sum_{i=1}^{n}{(\\hat{y_i} - y_i)}^2$$\n",
    "$$J = \\frac{1}{n}\\sum_{i=1}^{n}{(\\omega_1x_i+\\omega_0 - y_i)}^2$$"
   ]
  },
  {
   "cell_type": "markdown",
   "metadata": {},
   "source": [
    "$$\\frac{\\partial J}{\\partial \\omega_0} = \\frac{2}{n}\\sum_{i=1}^{n}{(\\omega_1x_i+\\omega_0 - y_i)} = \\frac{2}{n}\\sum_{i=1}^{n}{(\\hat{y_i} - y_i)}$$\n",
    "$$\\frac{\\partial J}{\\partial \\omega_1} = \\frac{2}{n}\\sum_{i=1}^{n}{(\\omega_1x_i+\\omega_0 - y_i)}x_i = \\frac{2}{n}\\sum_{i=1}^{n}{(\\hat{y_i} - y_i)}x_i$$ "
   ]
  },
  {
   "cell_type": "markdown",
   "metadata": {},
   "source": [
    "Entonces a partir de lo anterior se tiene que para actualizar los valores de $\\omega_0$ y $\\omega_1$ se usan las siguientes ecuaciones"
   ]
  },
  {
   "cell_type": "markdown",
   "metadata": {},
   "source": [
    "$$\\omega_0 = \\omega_0 - \\alpha\\frac{2}{n}\\sum_{i=1}^{n}{(\\hat{y_i} - y_i)}$$\n",
    "$$\\omega_1 = \\omega_1 - \\alpha\\frac{2}{n}\\sum_{i=1}^{n}{(\\hat{y_i} - y_i)}x_i$$"
   ]
  },
  {
   "cell_type": "markdown",
   "metadata": {},
   "source": [
    "En donde $\\alpha$ se define como la tasa de aprendizaje y es una valor que debe definirse teniendo en cuenta que Si la tasa de aprendizaje es demasiado alta el algoritmo nunca encontrará un mínimo, dado que los saltos serán muy grandes. Si la tasa de aprendizaje es demasiado baja, llevará un tiempo infinito alcanzar el mínimo. en la siguiente figura se presenta el comportamiento del metodo del descenso del gradiente con diferentes tasas de entrenamiento."
   ]
  },
  {
   "cell_type": "markdown",
   "metadata": {},
   "source": [
    "![Medium](https://miro.medium.com/proxy/0*QwE8M4MupSdqA3M4.png \"tasa de entrenamiento\")\n",
    "Fuente : [Medium](https://medium.com/datos-y-ciencia/machine-learning-supervisado-fundamentos-de-la-regresi%C3%B3n-lineal-bbcb07fe7fd)"
   ]
  },
  {
   "cell_type": "markdown",
   "metadata": {},
   "source": [
    "Una vez definido lo anterior, podemos dividir el algoritmo a seguir para la implementación de la regresión lineal en cuatro pasos:\n",
    "\n",
    "1. Explorar el conjunto de datos con el que se va a trabajar para obtener un conocimiento general de su estructura.\n",
    "2. inicialmente sea $\\omega_0$ = 1 y $\\omega_1$ = 1. Sea $\\alpha$ nuestra tasa de aprendizaje. Esto controla cuánto cambia el valor de $\\omega_1$ con cada paso. $\\alpha$ podría ser un valor pequeño como 0.0001 para una buena precisión.\n",
    "2. Actualizar los valores de $\\omega_0$ y $\\omega_1$ con el método del descenso del gradiente\n",
    "3. Repita este proceso hasta que nuestra función de pérdida sea un valor muy pequeño o idealmente 0 (lo que significa 0 error o 100% de precisión). El valor de $\\omega_0$ y $\\omega_1$  que nos queda ahora serán los valores óptimos\n"
   ]
  },
  {
   "cell_type": "markdown",
   "metadata": {},
   "source": [
    "## Ejemplo de regresión lineal"
   ]
  },
  {
   "cell_type": "markdown",
   "metadata": {},
   "source": [
    "Para realizar el desarrollo del ejemplo de regresión lineal se van a seguir los cuatro pasos descritos anteriormente. Primero declaramos los módulos que se van a usar"
   ]
  },
  {
   "cell_type": "markdown",
   "metadata": {},
   "source": [
    "Ahora realizamos la exploración de la data que se va a usar. En este caso vamos a usar uno de los conjuntos de datos que están definidos en la librería sklearn en especifico el set de datos de diabetes. "
   ]
  },
  {
   "cell_type": "code",
   "execution_count": 1,
   "metadata": {},
   "outputs": [],
   "source": [
    "import numpy as np\n",
    "from sklearn import datasets, linear_model\n",
    "from sklearn.metrics import mean_squared_error, r2_score\n",
    "from sklearn.model_selection import train_test_split\n",
    "import pandas as pd\n",
    "import matplotlib.pyplot as plt\n",
    "%matplotlib inline"
   ]
  },
  {
   "cell_type": "code",
   "execution_count": 3,
   "metadata": {},
   "outputs": [
    {
     "name": "stdout",
     "output_type": "stream",
     "text": [
      "(442, 10)\n",
      "(442,)\n"
     ]
    }
   ],
   "source": [
    "# Load the diabetes dataset\n",
    "diabetes_X, diabetes_y = datasets.load_diabetes(return_X_y=True, as_frame=True)\n",
    "print(diabetes_X.shape)\n",
    "print(diabetes_y.shape)"
   ]
  },
  {
   "cell_type": "code",
   "execution_count": 4,
   "metadata": {},
   "outputs": [
    {
     "name": "stdout",
     "output_type": "stream",
     "text": [
      "<class 'pandas.core.frame.DataFrame'>\n",
      "RangeIndex: 442 entries, 0 to 441\n",
      "Data columns (total 10 columns):\n",
      " #   Column  Non-Null Count  Dtype  \n",
      "---  ------  --------------  -----  \n",
      " 0   age     442 non-null    float64\n",
      " 1   sex     442 non-null    float64\n",
      " 2   bmi     442 non-null    float64\n",
      " 3   bp      442 non-null    float64\n",
      " 4   s1      442 non-null    float64\n",
      " 5   s2      442 non-null    float64\n",
      " 6   s3      442 non-null    float64\n",
      " 7   s4      442 non-null    float64\n",
      " 8   s5      442 non-null    float64\n",
      " 9   s6      442 non-null    float64\n",
      "dtypes: float64(10)\n",
      "memory usage: 34.7 KB\n"
     ]
    }
   ],
   "source": [
    "diabetes_X.info()"
   ]
  },
  {
   "cell_type": "code",
   "execution_count": 5,
   "metadata": {},
   "outputs": [
    {
     "data": {
      "text/html": [
       "<div>\n",
       "<style scoped>\n",
       "    .dataframe tbody tr th:only-of-type {\n",
       "        vertical-align: middle;\n",
       "    }\n",
       "\n",
       "    .dataframe tbody tr th {\n",
       "        vertical-align: top;\n",
       "    }\n",
       "\n",
       "    .dataframe thead th {\n",
       "        text-align: right;\n",
       "    }\n",
       "</style>\n",
       "<table border=\"1\" class=\"dataframe\">\n",
       "  <thead>\n",
       "    <tr style=\"text-align: right;\">\n",
       "      <th></th>\n",
       "      <th>age</th>\n",
       "      <th>sex</th>\n",
       "      <th>bmi</th>\n",
       "      <th>bp</th>\n",
       "      <th>s1</th>\n",
       "      <th>s2</th>\n",
       "      <th>s3</th>\n",
       "      <th>s4</th>\n",
       "      <th>s5</th>\n",
       "      <th>s6</th>\n",
       "    </tr>\n",
       "  </thead>\n",
       "  <tbody>\n",
       "    <tr>\n",
       "      <th>0</th>\n",
       "      <td>0.038076</td>\n",
       "      <td>0.050680</td>\n",
       "      <td>0.061696</td>\n",
       "      <td>0.021872</td>\n",
       "      <td>-0.044223</td>\n",
       "      <td>-0.034821</td>\n",
       "      <td>-0.043401</td>\n",
       "      <td>-0.002592</td>\n",
       "      <td>0.019908</td>\n",
       "      <td>-0.017646</td>\n",
       "    </tr>\n",
       "    <tr>\n",
       "      <th>1</th>\n",
       "      <td>-0.001882</td>\n",
       "      <td>-0.044642</td>\n",
       "      <td>-0.051474</td>\n",
       "      <td>-0.026328</td>\n",
       "      <td>-0.008449</td>\n",
       "      <td>-0.019163</td>\n",
       "      <td>0.074412</td>\n",
       "      <td>-0.039493</td>\n",
       "      <td>-0.068330</td>\n",
       "      <td>-0.092204</td>\n",
       "    </tr>\n",
       "    <tr>\n",
       "      <th>2</th>\n",
       "      <td>0.085299</td>\n",
       "      <td>0.050680</td>\n",
       "      <td>0.044451</td>\n",
       "      <td>-0.005671</td>\n",
       "      <td>-0.045599</td>\n",
       "      <td>-0.034194</td>\n",
       "      <td>-0.032356</td>\n",
       "      <td>-0.002592</td>\n",
       "      <td>0.002864</td>\n",
       "      <td>-0.025930</td>\n",
       "    </tr>\n",
       "    <tr>\n",
       "      <th>3</th>\n",
       "      <td>-0.089063</td>\n",
       "      <td>-0.044642</td>\n",
       "      <td>-0.011595</td>\n",
       "      <td>-0.036656</td>\n",
       "      <td>0.012191</td>\n",
       "      <td>0.024991</td>\n",
       "      <td>-0.036038</td>\n",
       "      <td>0.034309</td>\n",
       "      <td>0.022692</td>\n",
       "      <td>-0.009362</td>\n",
       "    </tr>\n",
       "    <tr>\n",
       "      <th>4</th>\n",
       "      <td>0.005383</td>\n",
       "      <td>-0.044642</td>\n",
       "      <td>-0.036385</td>\n",
       "      <td>0.021872</td>\n",
       "      <td>0.003935</td>\n",
       "      <td>0.015596</td>\n",
       "      <td>0.008142</td>\n",
       "      <td>-0.002592</td>\n",
       "      <td>-0.031991</td>\n",
       "      <td>-0.046641</td>\n",
       "    </tr>\n",
       "  </tbody>\n",
       "</table>\n",
       "</div>"
      ],
      "text/plain": [
       "        age       sex       bmi        bp        s1        s2        s3  \\\n",
       "0  0.038076  0.050680  0.061696  0.021872 -0.044223 -0.034821 -0.043401   \n",
       "1 -0.001882 -0.044642 -0.051474 -0.026328 -0.008449 -0.019163  0.074412   \n",
       "2  0.085299  0.050680  0.044451 -0.005671 -0.045599 -0.034194 -0.032356   \n",
       "3 -0.089063 -0.044642 -0.011595 -0.036656  0.012191  0.024991 -0.036038   \n",
       "4  0.005383 -0.044642 -0.036385  0.021872  0.003935  0.015596  0.008142   \n",
       "\n",
       "         s4        s5        s6  \n",
       "0 -0.002592  0.019908 -0.017646  \n",
       "1 -0.039493 -0.068330 -0.092204  \n",
       "2 -0.002592  0.002864 -0.025930  \n",
       "3  0.034309  0.022692 -0.009362  \n",
       "4 -0.002592 -0.031991 -0.046641  "
      ]
     },
     "execution_count": 5,
     "metadata": {},
     "output_type": "execute_result"
    }
   ],
   "source": [
    "diabetes_X.head()"
   ]
  },
  {
   "cell_type": "code",
   "execution_count": 6,
   "metadata": {},
   "outputs": [
    {
     "data": {
      "text/plain": [
       "0    151.0\n",
       "1     75.0\n",
       "2    141.0\n",
       "3    206.0\n",
       "4    135.0\n",
       "Name: target, dtype: float64"
      ]
     },
     "execution_count": 6,
     "metadata": {},
     "output_type": "execute_result"
    }
   ],
   "source": [
    "diabetes_y.head()"
   ]
  },
  {
   "cell_type": "markdown",
   "metadata": {},
   "source": [
    "Luego de realizar la exploración de los datos se elige la columna de BMI del conjunto de datos cargados para realizar una regresión lineal simple. Los conjunto de datos de características correspondiente a BMI y de objetivos se dividen en subconjuntos de Entrenamiento y prueba usando la función de train_test_split que pertenece al modulo sklearn.model_selection. En este caso de la totalidad de los datos se define un 30% como prueba y el resto de entrenamiento."
   ]
  },
  {
   "cell_type": "code",
   "execution_count": 2,
   "metadata": {},
   "outputs": [],
   "source": [
    "def splitSet(desc, targ):\n",
    "    X_train, X_test, y_train, y_test = train_test_split(desc, targ, test_size=0.3) # 70% training and 30% test\n",
    "    return (X_train, X_test, y_train, y_test)"
   ]
  },
  {
   "cell_type": "code",
   "execution_count": 7,
   "metadata": {},
   "outputs": [
    {
     "data": {
      "image/png": "[encoded data removed]",
      "text/plain": [
       "<Figure size 432x288 with 1 Axes>"
      ]
     },
     "metadata": {
      "needs_background": "light"
     },
     "output_type": "display_data"
    }
   ],
   "source": [
    "x_data = diabetes_X[\"bmi\"]\n",
    "plt.scatter(x_data, diabetes_y,  color='blue')\n",
    "plt.show()"
   ]
  },
  {
   "cell_type": "code",
   "execution_count": 8,
   "metadata": {},
   "outputs": [
    {
     "name": "stdout",
     "output_type": "stream",
     "text": [
      "El tamaño del tensor de características de entrenamiento es: (309,) y el de pruebas es: (133,)\n",
      "El tamaño del tensor de objetivos de entrenamiento es: (309,) y el de pruebas es: (133,)\n"
     ]
    }
   ],
   "source": [
    "X_train, X_test, y_train, y_test = train_test_split(x_data, diabetes_y, test_size=0.3) # 70% training and 30% test\n",
    "print(f'El tamaño del tensor de características de entrenamiento es: {X_train.shape} y el de pruebas es: {X_test.shape}')\n",
    "print(f'El tamaño del tensor de objetivos de entrenamiento es: {y_train.shape} y el de pruebas es: {y_test.shape}')"
   ]
  },
  {
   "cell_type": "code",
   "execution_count": 9,
   "metadata": {},
   "outputs": [],
   "source": [
    "X_train = X_train.to_numpy(dtype = 'float32').reshape(-1, 1)\n",
    "X_test = X_test.to_numpy(dtype = 'float32').reshape(-1, 1)\n",
    "y_train = y_train.to_numpy(dtype = 'float32').reshape(-1, 1)\n",
    "y_test = y_test.to_numpy(dtype = 'float32').reshape(-1, 1)"
   ]
  },
  {
   "cell_type": "markdown",
   "metadata": {},
   "source": [
    "En el siguiente segmento de código se definen los pasos dos, tres y cuatro definidos anteriormente "
   ]
  },
  {
   "cell_type": "code",
   "execution_count": 34,
   "metadata": {},
   "outputs": [
    {
     "name": "stdout",
     "output_type": "stream",
     "text": [
      "4901.029530744337\n",
      "4388.5542071197415\n",
      "4181.7180420711975\n",
      "4098.23786407767\n",
      "4064.54571197411\n",
      "4050.947006472492\n",
      "4045.4587378640776\n",
      "4043.243932038835\n",
      "4042.349514563107\n",
      "4041.9886731391584\n"
     ]
    }
   ],
   "source": [
    "num_epochs = 10000\n",
    "alpha = 0.1\n",
    "\n",
    "# Definición de los valores iniciales de w_0 y w_1\n",
    "w_0 = 1\n",
    "w_1 = 1\n",
    "\n",
    "epochs = 0\n",
    "while(epochs < num_epochs):\n",
    "    # Definición del modelo\n",
    "    y_pred = w_0 + w_1 * X_train\n",
    "    \n",
    "    #Cálculo de la función de perdida\n",
    "    error = y_pred - y_train\n",
    "    mean_sq_er = np.sum(error**2)\n",
    "    mean_sq_er = mean_sq_er/n\n",
    "    \n",
    "    #Calculo del descenso del gradiente \n",
    "    w_0 = w_0 - alpha * 2 * np.sum(error)/n \n",
    "    w_1 = w_1 - alpha * 2 * np.sum(error * X_train)/n\n",
    "    epochs += 1\n",
    "    if(epochs%1000 == 0):\n",
    "        print(mean_sq_er)"
   ]
  },
  {
   "cell_type": "markdown",
   "metadata": {},
   "source": [
    "Por último, se presenta una gráfica de los datos de prueba y de la función lineal que se ajustó con el método de regresión"
   ]
  },
  {
   "cell_type": "code",
   "execution_count": 35,
   "metadata": {},
   "outputs": [
    {
     "name": "stdout",
     "output_type": "stream",
     "text": [
      "R2 Score: 0.3369796531363537\n"
     ]
    },
    {
     "data": {
      "image/png": "[encoded data removed]",
      "text/plain": [
       "<Figure size 432x288 with 1 Axes>"
      ]
     },
     "metadata": {
      "needs_background": "light"
     },
     "output_type": "display_data"
    }
   ],
   "source": [
    "y_prediction = w_0 + w_1*X_test\n",
    "print('R2 Score:',r2_score(y_test,y_prediction))\n",
    "\n",
    "plt.figure(figsize=(6,4))\n",
    "plt.scatter(X_test,y_test,color='red',label='GT')\n",
    "plt.plot(X_test,y_prediction,color='black',label = 'pred')\n",
    "plt.legend()\n",
    "plt.show()"
   ]
  },
  {
   "cell_type": "markdown",
   "metadata": {},
   "source": [
    "En el siguiente código se presenta la implementación de método de regresión lineal usando en esta ocasión la librería de sklearn. Para más información sobre el funcionamiento de este método por favor referirse a los siguientes enlaces: [Método]( https://scikit-learn.org/stable/modules/generated/sklearn.linear_model.LinearRegression.html#sklearn.linear_model.LinearRegression.fit) y [Ejemplo]( https://scikit-learn.org/stable/auto_examples/linear_model/plot_ols.html)"
   ]
  },
  {
   "cell_type": "code",
   "execution_count": 24,
   "metadata": {},
   "outputs": [
    {
     "name": "stdout",
     "output_type": "stream",
     "text": [
      "Coefficients: \n",
      " [[969.3622]]\n",
      "Mean squared error: 3553.99\n",
      "Coefficient of determination: 0.34\n"
     ]
    },
    {
     "data": {
      "image/png": "[encoded data removed]",
      "text/plain": [
       "<Figure size 432x288 with 1 Axes>"
      ]
     },
     "metadata": {
      "needs_background": "light"
     },
     "output_type": "display_data"
    }
   ],
   "source": [
    "# Create linear regression object\n",
    "regr = linear_model.LinearRegression()\n",
    "\n",
    "# Train the model using the training sets\n",
    "regr.fit(X_train, y_train)\n",
    "\n",
    "# Make predictions using the testing set\n",
    "diabetes_y_pred = regr.predict(X_test)\n",
    "\n",
    "# The coefficients\n",
    "print('Coefficients: \\n', regr.coef_)\n",
    "# The mean squared error\n",
    "print('Mean squared error: %.2f'\n",
    "      % mean_squared_error(y_test, diabetes_y_pred))\n",
    "# The coefficient of determination: 1 is perfect prediction\n",
    "print('Coefficient of determination: %.2f'\n",
    "      % r2_score(y_test, diabetes_y_pred))\n",
    "\n",
    "# Plot outputs\n",
    "plt.scatter(X_test, y_test,  color='blue')\n",
    "plt.plot(X_test, diabetes_y_pred, color='red', linewidth=3)\n",
    "plt.show()"
   ]
  },
  {
   "cell_type": "markdown",
   "metadata": {},
   "source": [
    "## Conclusiones "
   ]
  },
  {
   "cell_type": "markdown",
   "metadata": {},
   "source": [
    "\n",
    "• En el ejemplo anterior se puede observar que se tiene un error cuadrático medio bastante alto. Esto se debe principalmente a que los datos presentan una dispersión bastante grande por lo que podría decirse que un modelo lineal no es la opción mas adecuada para realizar predicciones sobre este conjunto de datos.\n",
    "\n",
    "• El método de regresión lineal es un primer paso importante para cualquier persona que quiera incursionar en el aprendizaje de maquinas ya que de forma sencilla nos presenta la manera de ajustar una función a un conjunto de datos con el fin de poder realizar predicciones\n"
   ]
  }
 ],
 "metadata": {
  "kernelspec": {
   "display_name": "Python 3",
   "language": "python",
   "name": "python3"
  },
  "language_info": {
   "codemirror_mode": {
    "name": "ipython",
    "version": 3
   },
   "file_extension": ".py",
   "mimetype": "text/x-python",
   "name": "python",
   "nbconvert_exporter": "python",
   "pygments_lexer": "ipython3",
   "version": "3.8.5"
  }
 },
 "nbformat": 4,
 "nbformat_minor": 4
}
